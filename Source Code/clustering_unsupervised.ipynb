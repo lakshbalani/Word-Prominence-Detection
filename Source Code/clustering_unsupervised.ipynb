{
 "cells": [
  {
   "cell_type": "code",
   "execution_count": 1,
   "metadata": {},
   "outputs": [
    {
     "name": "stderr",
     "output_type": "stream",
     "text": [
      "2023-12-15 18:08:04.858427: I tensorflow/core/util/port.cc:111] oneDNN custom operations are on. You may see slightly different numerical results due to floating-point round-off errors from different computation orders. To turn them off, set the environment variable `TF_ENABLE_ONEDNN_OPTS=0`.\n",
      "2023-12-15 18:08:05.100391: E tensorflow/compiler/xla/stream_executor/cuda/cuda_dnn.cc:9342] Unable to register cuDNN factory: Attempting to register factory for plugin cuDNN when one has already been registered\n",
      "2023-12-15 18:08:05.100509: E tensorflow/compiler/xla/stream_executor/cuda/cuda_fft.cc:609] Unable to register cuFFT factory: Attempting to register factory for plugin cuFFT when one has already been registered\n",
      "2023-12-15 18:08:05.101409: E tensorflow/compiler/xla/stream_executor/cuda/cuda_blas.cc:1518] Unable to register cuBLAS factory: Attempting to register factory for plugin cuBLAS when one has already been registered\n",
      "2023-12-15 18:08:05.209408: I tensorflow/core/platform/cpu_feature_guard.cc:182] This TensorFlow binary is optimized to use available CPU instructions in performance-critical operations.\n",
      "To enable the following instructions: AVX2 AVX512F AVX512_VNNI FMA, in other operations, rebuild TensorFlow with the appropriate compiler flags.\n",
      "2023-12-15 18:08:06.162342: W tensorflow/compiler/tf2tensorrt/utils/py_utils.cc:38] TF-TRT Warning: Could not find TensorRT\n"
     ]
    }
   ],
   "source": [
    "import pandas as pd\n",
    "import numpy as np\n",
    "from sklearn.model_selection import train_test_split\n",
    "from sklearn.metrics import accuracy_score\n",
    "from sklearn.metrics import confusion_matrix\n",
    "from sklearn.metrics import classification_report\n",
    "from imblearn.over_sampling import SMOTE\n",
    "from sklearn.cluster import KMeans\n",
    "from sklearn.mixture import GaussianMixture\n",
    "from tensorflow import keras"
   ]
  },
  {
   "cell_type": "code",
   "execution_count": 2,
   "metadata": {},
   "outputs": [],
   "source": [
    "df = pd.read_csv('feature_vectors.csv')\n",
    "x = df.values.tolist()\n",
    "# convert each element from string to list\n",
    "X = []\n",
    "for i in range(len(x)):\n",
    "    Z = []\n",
    "    for j in range(len(x[i])):\n",
    "        # if x[i][j] is string\n",
    "        if isinstance(x[i][j], str):\n",
    "            p = x[i][j].strip('][').split(', ')\n",
    "            Z.append(p)\n",
    "            # convert each element from string to int\n",
    "            for k in range(len(p)):\n",
    "                p[k] = float(p[k])\n",
    "        else :\n",
    "            break\n",
    "    X.append(Z)\n",
    "\n",
    "df2 = pd.read_csv('manual_markings.csv')\n",
    "y = df2.values.tolist()\n",
    "# convert each element from string to list\n",
    "Y = []\n",
    "for i in range(len(y)):\n",
    "    Z = []\n",
    "    for j in range(len(y[i])):\n",
    "        # if x[i][j] is 0 or 1\n",
    "        if y[i][j] == 0 or y[i][j] == 1:\n",
    "            Z.append(int(y[i][j]))\n",
    "        else: break\n",
    "    Y.append(Z)\n",
    "\n",
    "X_train, X_test, Y_train, Y_test = train_test_split(X, Y, test_size=0.2, random_state=42)\n",
    "\n",
    "X_train = [item for sublist in X_train for item in sublist]\n",
    "Y_train = [item for sublist in Y_train for item in sublist]\n",
    "X_test = [item for sublist in X_test for item in sublist]\n",
    "Y_test = [item for sublist in Y_test for item in sublist]\n",
    "\n",
    "X_train_arr = np.array(X_train)\n",
    "X_train_arr[np.isnan(X_train_arr)] = 0\n",
    "\n",
    "Y_train_arr = np.array(Y_train)\n",
    "\n",
    "X_test_arr = np.array(X_test)\n",
    "X_test_arr[np.isnan(X_test_arr)] = 0\n",
    "\n",
    "X_test = X_test_arr.tolist()\n",
    "\n",
    "# Instantiate the SMOTE object\n",
    "smote = SMOTE(sampling_strategy=0.5, random_state=42)\n",
    "\n",
    "# Resample the dataset using SMOTE\n",
    "X_resampled, y_resampled = smote.fit_resample(X_train_arr, Y_train_arr)\n",
    "\n",
    "X_train = X_resampled.tolist()\n",
    "Y_train = y_resampled.tolist()\n",
    "\n",
    "df2 = pd.DataFrame(X_train, columns=['1','2','3','4','5','6','7','8','9','10','11','12','13','14','15'])\n",
    "df2.fillna(0, inplace=True)\n",
    "\n",
    "df3 = pd.DataFrame(X_test, columns=['1','2','3','4','5','6','7','8','9','10','11','12','13','14','15'])\n",
    "df3.fillna(0, inplace=True)\n",
    "\n",
    "df4 = pd.DataFrame(Y_train,columns=['1'])\n",
    "df4.fillna(0,inplace=True)\n"
   ]
  },
  {
   "cell_type": "markdown",
   "metadata": {},
   "source": [
    "### K-means clustering"
   ]
  },
  {
   "cell_type": "code",
   "execution_count": 6,
   "metadata": {},
   "outputs": [
    {
     "name": "stdout",
     "output_type": "stream",
     "text": [
      "Performance report of the model is :\n",
      "              Precision    Recall  F1-Score   Support\n",
      "\n",
      "            0      0.82      0.63      0.71       227\n",
      "            1      0.39      0.64      0.48        85\n",
      "\n",
      "     Accuracy                          0.63       312\n",
      "    Macro_avg      0.60      0.63      0.60       312\n",
      " Weighted_avg      0.70      0.63      0.65       312\n"
     ]
    }
   ],
   "source": [
    "kmeans = KMeans(n_clusters=2, random_state=0)\n",
    "kmeans.fit(df2)\n",
    "cluster_labels = kmeans.predict(df3)\n",
    "\n",
    "print(classification_report(Y_test, cluster_labels))"
   ]
  },
  {
   "cell_type": "markdown",
   "metadata": {},
   "source": [
    "### Gaussian Mixture Model"
   ]
  },
  {
   "cell_type": "code",
   "execution_count": 7,
   "metadata": {},
   "outputs": [
    {
     "name": "stdout",
     "output_type": "stream",
     "text": [
      "Performance report of the model is :\n",
      "              Precision    Recall  F1-Score   Support\n",
      "\n",
      "            0      0.84      0.56      0.67       227\n",
      "            1      0.38      0.71      0.49        85\n",
      "\n",
      "     Accuracy                          0.60       312\n",
      "    Macro_avg      0.61      0.63      0.58       312\n",
      " Weighted_avg      0.71      0.60      0.62       312\n"
     ]
    }
   ],
   "source": [
    "gmm = GaussianMixture(n_components=2)\n",
    "gmm.fit(df2)\n",
    "cluster_labels = gmm.predict(df3)\n",
    "\n",
    "print(classification_report(Y_test, cluster_labels))"
   ]
  },
  {
   "cell_type": "code",
   "execution_count": 4,
   "metadata": {},
   "outputs": [],
   "source": [
    "df = pd.read_csv('indian_accent_feature_vectors.csv')\n",
    "x = df.values.tolist()\n",
    "# convert each element from string to list\n",
    "X = []\n",
    "for i in range(len(x)):\n",
    "    Z = []\n",
    "    for j in range(len(x[i])):\n",
    "        # if x[i][j] is string\n",
    "        if isinstance(x[i][j], str):\n",
    "            p = x[i][j].strip('][').split(', ')\n",
    "            Z.append(p)\n",
    "            # convert each element from string to int\n",
    "            for k in range(len(p)):\n",
    "                p[k] = float(p[k])\n",
    "        else :\n",
    "            break\n",
    "    X.append(Z)\n",
    "\n",
    "df2 = pd.read_csv('word_markings_indian_accent.csv')\n",
    "y = df2.values.tolist()\n",
    "# convert each element from string to list\n",
    "Y = []\n",
    "for i in range(len(y)):\n",
    "    Z = []\n",
    "    for j in range(len(y[i])):\n",
    "        # if x[i][j] is 0 or 1\n",
    "        if y[i][j] == 0 or y[i][j] == 1:\n",
    "            Z.append(int(y[i][j]))\n",
    "        else: break\n",
    "    Y.append(Z)\n",
    "\n",
    "\n",
    "X_test = [item for sublist in X for item in sublist]\n",
    "Y_test = [item for sublist in Y for item in sublist]\n",
    "\n",
    "X_test_arr = np.array(X_test)\n",
    "X_test_arr[np.isnan(X_test_arr)] = 0\n",
    "\n",
    "X_test = X_test_arr.tolist()\n",
    "\n",
    "\n",
    "df3 = pd.DataFrame(X_test, columns=['1','2','3','4','5','6','7','8','9','10','11','12','13','14','15'])\n",
    "df3.fillna(0, inplace=True)"
   ]
  },
  {
   "cell_type": "code",
   "execution_count": 4,
   "metadata": {},
   "outputs": [
    {
     "name": "stdout",
     "output_type": "stream",
     "text": [
      "Performance report of the model is :\n",
      "              Precision    Recall  F1-Score   Support\n",
      "\n",
      "            0      0.75      0.49      0.59       225\n",
      "            1      0.40      0.67      0.50       113\n",
      "\n",
      "     Accuracy                          0.55       338\n",
      "    Macro_avg      0.57      0.58      0.55       338\n",
      " Weighted_avg      0.63      0.55      0.56       338\n"
     ]
    }
   ],
   "source": [
    "kmeans = KMeans(n_clusters=2, random_state=0)\n",
    "kmeans.fit(df2)\n",
    "cluster_labels = kmeans.predict(df3)\n",
    "\n",
    "print(classification_report(Y_test, cluster_labels))"
   ]
  },
  {
   "cell_type": "code",
   "execution_count": 5,
   "metadata": {},
   "outputs": [
    {
     "name": "stdout",
     "output_type": "stream",
     "text": [
      "Performance report of the model is :\n",
      "              Precision    Recall  F1-Score   Support\n",
      "\n",
      "            0      0.72      0.41      0.53       225\n",
      "            1      0.37      0.68      0.48       113\n",
      "\n",
      "     Accuracy                          0.50       338\n",
      "    Macro_avg      0.54      0.55      0.50       338\n",
      " Weighted_avg      0.60      0.50      0.51       338\n"
     ]
    }
   ],
   "source": [
    "gmm = GaussianMixture(n_components=2)\n",
    "gmm.fit(df2)\n",
    "cluster_labels = gmm.predict(df3)\n",
    "\n",
    "print(classification_report(Y_test, cluster_labels))"
   ]
  },
  {
   "cell_type": "code",
   "execution_count": null,
   "metadata": {},
   "outputs": [],
   "source": []
  }
 ],
 "metadata": {
  "kernelspec": {
   "display_name": "Python 3",
   "language": "python",
   "name": "python3"
  },
  "language_info": {
   "codemirror_mode": {
    "name": "ipython",
    "version": 3
   },
   "file_extension": ".py",
   "mimetype": "text/x-python",
   "name": "python",
   "nbconvert_exporter": "python",
   "pygments_lexer": "ipython3",
   "version": "3.11.6"
  }
 },
 "nbformat": 4,
 "nbformat_minor": 2
}
