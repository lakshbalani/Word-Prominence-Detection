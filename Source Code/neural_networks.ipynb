{
  "cells": [
    {
      "cell_type": "code",
      "execution_count": 1,
      "metadata": {
        "id": "dpvmzqXqfcYS"
      },
      "outputs": [],
      "source": [
        "import pandas as pd\n",
        "import numpy as np\n",
        "from sklearn.model_selection import train_test_split\n",
        "from imblearn.over_sampling import SMOTE\n",
        "from tensorflow import keras"
      ]
    },
    {
      "cell_type": "code",
      "execution_count": 3,
      "metadata": {
        "id": "cpfAHX1mfcYW"
      },
      "outputs": [],
      "source": [
        "df = pd.read_csv('feature_vectors.csv')\n",
        "x = df.values.tolist()\n",
        "# convert each element from string to list\n",
        "X = []\n",
        "for i in range(len(x)):\n",
        "    Z = []\n",
        "    for j in range(len(x[i])):\n",
        "        # if x[i][j] is string\n",
        "        if isinstance(x[i][j], str):\n",
        "            p = x[i][j].strip('][').split(', ')\n",
        "            Z.append(p)\n",
        "            # convert each element from string to int\n",
        "            for k in range(len(p)):\n",
        "                p[k] = float(p[k])\n",
        "        else :\n",
        "            break\n",
        "    X.append(Z)\n",
        "\n",
        "df2 = pd.read_csv('manual_markings.csv')\n",
        "y = df2.values.tolist()\n",
        "# convert each element from string to list\n",
        "Y = []\n",
        "for i in range(len(y)):\n",
        "    Z = []\n",
        "    for j in range(len(y[i])):\n",
        "        # if x[i][j] is 0 or 1\n",
        "        if y[i][j] == 0 or y[i][j] == 1:\n",
        "            Z.append(int(y[i][j]))\n",
        "        else: break\n",
        "    Y.append(Z)\n",
        "\n",
        "X_train, X_test, Y_train, Y_test = train_test_split(X, Y, test_size=0.2, random_state=42)\n",
        "\n",
        "X_train = [item for sublist in X_train for item in sublist]\n",
        "Y_train = [item for sublist in Y_train for item in sublist]\n",
        "X_test = [item for sublist in X_test for item in sublist]\n",
        "Y_test = [item for sublist in Y_test for item in sublist]\n",
        "\n",
        "X_train_arr = np.array(X_train)\n",
        "X_train_arr[np.isnan(X_train_arr)] = 0\n",
        "\n",
        "Y_train_arr = np.array(Y_train)\n",
        "\n",
        "X_test_arr = np.array(X_test)\n",
        "X_test_arr[np.isnan(X_test_arr)] = 0\n",
        "\n",
        "X_test = X_test_arr.tolist()\n",
        "\n",
        "# Instantiate the SMOTE object\n",
        "smote = SMOTE(sampling_strategy=0.5, random_state=42)\n",
        "\n",
        "# Resample the dataset using SMOTE\n",
        "X_resampled, y_resampled = smote.fit_resample(X_train_arr, Y_train_arr)\n",
        "\n",
        "X_train = X_resampled.tolist()\n",
        "Y_train = y_resampled.tolist()\n",
        "\n",
        "df2 = pd.DataFrame(X_train, columns=['1','2','3','4','5','6','7','8','9','10','11','12','13','14','15'])\n",
        "df2.fillna(0, inplace=True)\n",
        "\n",
        "df3 = pd.DataFrame(X_test, columns=['1','2','3','4','5','6','7','8','9','10','11','12','13','14','15'])\n",
        "df3.fillna(0, inplace=True)\n",
        "\n",
        "df4 = pd.DataFrame(Y_train,columns=['1'])\n",
        "df4.fillna(0,inplace=True)"
      ]
    },
    {
      "cell_type": "code",
      "execution_count": 4,
      "metadata": {
        "id": "07pKwzCwfcYX"
      },
      "outputs": [],
      "source": [
        "X_train = df2[['1','2','3','4','5','6','7','8','9','10','11','12','13','14','15']]\n",
        "Y_train = df4['1']"
      ]
    },
    {
      "cell_type": "code",
      "execution_count": 5,
      "metadata": {
        "colab": {
          "base_uri": "https://localhost:8080/"
        },
        "id": "7C0Xkwc8fcYX",
        "outputId": "378b9613-856f-4827-b6f3-5b31d9109946"
      },
      "outputs": [
        {
          "name": "stdout",
          "output_type": "stream",
          "text": [
            "Epoch 1/100\n",
            "6/6 [==============================] - 1s 5ms/step - loss: 5.7244 - accuracy: 0.6691\n",
            "Epoch 2/100\n",
            "6/6 [==============================] - 0s 4ms/step - loss: 2.8067 - accuracy: 0.6741\n",
            "Epoch 3/100\n",
            "6/6 [==============================] - 0s 3ms/step - loss: 2.1284 - accuracy: 0.6785\n",
            "Epoch 4/100\n",
            "6/6 [==============================] - 0s 4ms/step - loss: 1.8848 - accuracy: 0.6785\n",
            "Epoch 5/100\n",
            "6/6 [==============================] - 0s 4ms/step - loss: 1.5610 - accuracy: 0.6749\n",
            "Epoch 6/100\n",
            "6/6 [==============================] - 0s 3ms/step - loss: 1.3126 - accuracy: 0.6741\n",
            "Epoch 7/100\n",
            "6/6 [==============================] - 0s 3ms/step - loss: 1.1691 - accuracy: 0.6727\n",
            "Epoch 8/100\n",
            "6/6 [==============================] - 0s 3ms/step - loss: 1.0779 - accuracy: 0.6720\n",
            "Epoch 9/100\n",
            "6/6 [==============================] - 0s 3ms/step - loss: 0.9595 - accuracy: 0.6684\n",
            "Epoch 10/100\n",
            "6/6 [==============================] - 0s 3ms/step - loss: 0.8859 - accuracy: 0.6669\n",
            "Epoch 11/100\n",
            "6/6 [==============================] - 0s 4ms/step - loss: 0.8461 - accuracy: 0.6662\n",
            "Epoch 12/100\n",
            "6/6 [==============================] - 0s 5ms/step - loss: 0.8294 - accuracy: 0.6669\n",
            "Epoch 13/100\n",
            "6/6 [==============================] - 0s 3ms/step - loss: 0.8080 - accuracy: 0.6669\n",
            "Epoch 14/100\n",
            "6/6 [==============================] - 0s 3ms/step - loss: 0.7897 - accuracy: 0.6669\n",
            "Epoch 15/100\n",
            "6/6 [==============================] - 0s 4ms/step - loss: 0.7745 - accuracy: 0.6669\n",
            "Epoch 16/100\n",
            "6/6 [==============================] - 0s 3ms/step - loss: 0.7652 - accuracy: 0.6669\n",
            "Epoch 17/100\n",
            "6/6 [==============================] - 0s 3ms/step - loss: 0.7427 - accuracy: 0.6669\n",
            "Epoch 18/100\n",
            "6/6 [==============================] - 0s 3ms/step - loss: 0.7234 - accuracy: 0.6669\n",
            "Epoch 19/100\n",
            "6/6 [==============================] - 0s 4ms/step - loss: 0.7174 - accuracy: 0.6669\n",
            "Epoch 20/100\n",
            "6/6 [==============================] - 0s 3ms/step - loss: 0.6778 - accuracy: 0.6669\n",
            "Epoch 21/100\n",
            "6/6 [==============================] - 0s 3ms/step - loss: 0.6753 - accuracy: 0.6669\n",
            "Epoch 22/100\n",
            "6/6 [==============================] - 0s 3ms/step - loss: 0.6746 - accuracy: 0.6669\n",
            "Epoch 23/100\n",
            "6/6 [==============================] - 0s 3ms/step - loss: 0.6738 - accuracy: 0.6669\n",
            "Epoch 24/100\n",
            "6/6 [==============================] - 0s 4ms/step - loss: 0.6731 - accuracy: 0.6669\n",
            "Epoch 25/100\n",
            "6/6 [==============================] - 0s 3ms/step - loss: 0.6724 - accuracy: 0.6669\n",
            "Epoch 26/100\n",
            "6/6 [==============================] - 0s 5ms/step - loss: 0.6717 - accuracy: 0.6669\n",
            "Epoch 27/100\n",
            "6/6 [==============================] - 0s 3ms/step - loss: 0.6710 - accuracy: 0.6669\n",
            "Epoch 28/100\n",
            "6/6 [==============================] - 0s 3ms/step - loss: 0.6703 - accuracy: 0.6669\n",
            "Epoch 29/100\n",
            "6/6 [==============================] - 0s 3ms/step - loss: 0.6696 - accuracy: 0.6669\n",
            "Epoch 30/100\n",
            "6/6 [==============================] - 0s 3ms/step - loss: 0.6690 - accuracy: 0.6669\n",
            "Epoch 31/100\n",
            "6/6 [==============================] - 0s 3ms/step - loss: 0.6684 - accuracy: 0.6669\n",
            "Epoch 32/100\n",
            "6/6 [==============================] - 0s 3ms/step - loss: 0.6677 - accuracy: 0.6669\n",
            "Epoch 33/100\n",
            "6/6 [==============================] - 0s 4ms/step - loss: 0.6671 - accuracy: 0.6669\n",
            "Epoch 34/100\n",
            "6/6 [==============================] - 0s 3ms/step - loss: 0.6665 - accuracy: 0.6669\n",
            "Epoch 35/100\n",
            "6/6 [==============================] - 0s 3ms/step - loss: 0.6659 - accuracy: 0.6669\n",
            "Epoch 36/100\n",
            "6/6 [==============================] - 0s 3ms/step - loss: 0.6652 - accuracy: 0.6669\n",
            "Epoch 37/100\n",
            "6/6 [==============================] - 0s 3ms/step - loss: 0.6647 - accuracy: 0.6669\n",
            "Epoch 38/100\n",
            "6/6 [==============================] - 0s 3ms/step - loss: 0.6640 - accuracy: 0.6669\n",
            "Epoch 39/100\n",
            "6/6 [==============================] - 0s 3ms/step - loss: 0.6635 - accuracy: 0.6669\n",
            "Epoch 40/100\n",
            "6/6 [==============================] - 0s 4ms/step - loss: 0.6629 - accuracy: 0.6669\n",
            "Epoch 41/100\n",
            "6/6 [==============================] - 0s 4ms/step - loss: 0.6624 - accuracy: 0.6669\n",
            "Epoch 42/100\n",
            "6/6 [==============================] - 0s 4ms/step - loss: 0.6618 - accuracy: 0.6669\n",
            "Epoch 43/100\n",
            "6/6 [==============================] - 0s 3ms/step - loss: 0.6613 - accuracy: 0.6669\n",
            "Epoch 44/100\n",
            "6/6 [==============================] - 0s 4ms/step - loss: 0.6608 - accuracy: 0.6669\n",
            "Epoch 45/100\n",
            "6/6 [==============================] - 0s 4ms/step - loss: 0.6603 - accuracy: 0.6669\n",
            "Epoch 46/100\n",
            "6/6 [==============================] - 0s 4ms/step - loss: 0.6598 - accuracy: 0.6669\n",
            "Epoch 47/100\n",
            "6/6 [==============================] - 0s 4ms/step - loss: 0.6593 - accuracy: 0.6669\n",
            "Epoch 48/100\n",
            "6/6 [==============================] - 0s 3ms/step - loss: 0.6588 - accuracy: 0.6669\n",
            "Epoch 49/100\n",
            "6/6 [==============================] - 0s 3ms/step - loss: 0.6583 - accuracy: 0.6669\n",
            "Epoch 50/100\n",
            "6/6 [==============================] - 0s 4ms/step - loss: 0.6578 - accuracy: 0.6669\n",
            "Epoch 51/100\n",
            "6/6 [==============================] - 0s 3ms/step - loss: 0.6574 - accuracy: 0.6669\n",
            "Epoch 52/100\n",
            "6/6 [==============================] - 0s 3ms/step - loss: 0.6570 - accuracy: 0.6669\n",
            "Epoch 53/100\n",
            "6/6 [==============================] - 0s 3ms/step - loss: 0.6565 - accuracy: 0.6669\n",
            "Epoch 54/100\n",
            "6/6 [==============================] - 0s 4ms/step - loss: 0.6561 - accuracy: 0.6669\n",
            "Epoch 55/100\n",
            "6/6 [==============================] - 0s 5ms/step - loss: 0.6557 - accuracy: 0.6669\n",
            "Epoch 56/100\n",
            "6/6 [==============================] - 0s 4ms/step - loss: 0.6552 - accuracy: 0.6669\n",
            "Epoch 57/100\n",
            "6/6 [==============================] - 0s 4ms/step - loss: 0.6548 - accuracy: 0.6669\n",
            "Epoch 58/100\n",
            "6/6 [==============================] - 0s 3ms/step - loss: 0.6544 - accuracy: 0.6669\n",
            "Epoch 59/100\n",
            "6/6 [==============================] - 0s 3ms/step - loss: 0.6540 - accuracy: 0.6669\n",
            "Epoch 60/100\n",
            "6/6 [==============================] - 0s 4ms/step - loss: 0.6536 - accuracy: 0.6669\n",
            "Epoch 61/100\n",
            "6/6 [==============================] - 0s 5ms/step - loss: 0.6532 - accuracy: 0.6669\n",
            "Epoch 62/100\n",
            "6/6 [==============================] - 0s 6ms/step - loss: 0.6529 - accuracy: 0.6669\n",
            "Epoch 63/100\n",
            "6/6 [==============================] - 0s 4ms/step - loss: 0.6525 - accuracy: 0.6669\n",
            "Epoch 64/100\n",
            "6/6 [==============================] - 0s 4ms/step - loss: 0.6521 - accuracy: 0.6669\n",
            "Epoch 65/100\n",
            "6/6 [==============================] - 0s 4ms/step - loss: 0.6518 - accuracy: 0.6669\n",
            "Epoch 66/100\n",
            "6/6 [==============================] - 0s 4ms/step - loss: 0.6514 - accuracy: 0.6669\n",
            "Epoch 67/100\n",
            "6/6 [==============================] - 0s 4ms/step - loss: 0.6511 - accuracy: 0.6669\n",
            "Epoch 68/100\n",
            "6/6 [==============================] - 0s 3ms/step - loss: 0.6508 - accuracy: 0.6669\n",
            "Epoch 69/100\n",
            "6/6 [==============================] - 0s 3ms/step - loss: 0.6504 - accuracy: 0.6669\n",
            "Epoch 70/100\n",
            "6/6 [==============================] - 0s 3ms/step - loss: 0.6501 - accuracy: 0.6669\n",
            "Epoch 71/100\n",
            "6/6 [==============================] - 0s 3ms/step - loss: 0.6498 - accuracy: 0.6669\n",
            "Epoch 72/100\n",
            "6/6 [==============================] - 0s 4ms/step - loss: 0.6494 - accuracy: 0.6669\n",
            "Epoch 73/100\n",
            "6/6 [==============================] - 0s 4ms/step - loss: 0.6492 - accuracy: 0.6669\n",
            "Epoch 74/100\n",
            "6/6 [==============================] - 0s 4ms/step - loss: 0.6488 - accuracy: 0.6669\n",
            "Epoch 75/100\n",
            "6/6 [==============================] - 0s 4ms/step - loss: 0.6485 - accuracy: 0.6669\n",
            "Epoch 76/100\n",
            "6/6 [==============================] - 0s 3ms/step - loss: 0.6483 - accuracy: 0.6669\n",
            "Epoch 77/100\n",
            "6/6 [==============================] - 0s 3ms/step - loss: 0.6479 - accuracy: 0.6669\n",
            "Epoch 78/100\n",
            "6/6 [==============================] - 0s 3ms/step - loss: 0.6477 - accuracy: 0.6669\n",
            "Epoch 79/100\n",
            "6/6 [==============================] - 0s 4ms/step - loss: 0.6474 - accuracy: 0.6669\n",
            "Epoch 80/100\n",
            "6/6 [==============================] - 0s 4ms/step - loss: 0.6472 - accuracy: 0.6669\n",
            "Epoch 81/100\n",
            "6/6 [==============================] - 0s 4ms/step - loss: 0.6469 - accuracy: 0.6669\n",
            "Epoch 82/100\n",
            "6/6 [==============================] - 0s 3ms/step - loss: 0.6467 - accuracy: 0.6669\n",
            "Epoch 83/100\n",
            "6/6 [==============================] - 0s 3ms/step - loss: 0.6464 - accuracy: 0.6669\n",
            "Epoch 84/100\n",
            "6/6 [==============================] - 0s 4ms/step - loss: 0.6462 - accuracy: 0.6669\n",
            "Epoch 85/100\n",
            "6/6 [==============================] - 0s 4ms/step - loss: 0.6460 - accuracy: 0.6669\n",
            "Epoch 86/100\n",
            "6/6 [==============================] - 0s 3ms/step - loss: 0.6457 - accuracy: 0.6669\n",
            "Epoch 87/100\n",
            "6/6 [==============================] - 0s 4ms/step - loss: 0.6455 - accuracy: 0.6669\n",
            "Epoch 88/100\n",
            "6/6 [==============================] - 0s 4ms/step - loss: 0.6453 - accuracy: 0.6669\n",
            "Epoch 89/100\n",
            "6/6 [==============================] - 0s 4ms/step - loss: 0.6451 - accuracy: 0.6669\n",
            "Epoch 90/100\n",
            "6/6 [==============================] - 0s 4ms/step - loss: 0.6449 - accuracy: 0.6669\n",
            "Epoch 91/100\n",
            "6/6 [==============================] - 0s 3ms/step - loss: 0.6447 - accuracy: 0.6669\n",
            "Epoch 92/100\n",
            "6/6 [==============================] - 0s 3ms/step - loss: 0.6444 - accuracy: 0.6669\n",
            "Epoch 93/100\n",
            "6/6 [==============================] - 0s 3ms/step - loss: 0.6442 - accuracy: 0.6669\n",
            "Epoch 94/100\n",
            "6/6 [==============================] - 0s 4ms/step - loss: 0.6440 - accuracy: 0.6669\n",
            "Epoch 95/100\n",
            "6/6 [==============================] - 0s 3ms/step - loss: 0.6438 - accuracy: 0.6669\n",
            "Epoch 96/100\n",
            "6/6 [==============================] - 0s 3ms/step - loss: 0.6436 - accuracy: 0.6669\n",
            "Epoch 97/100\n",
            "6/6 [==============================] - 0s 6ms/step - loss: 0.6435 - accuracy: 0.6669\n",
            "Epoch 98/100\n",
            "6/6 [==============================] - 0s 4ms/step - loss: 0.6433 - accuracy: 0.6669\n",
            "Epoch 99/100\n",
            "6/6 [==============================] - 0s 4ms/step - loss: 0.6431 - accuracy: 0.6669\n",
            "Epoch 100/100\n",
            "6/6 [==============================] - 0s 4ms/step - loss: 0.6429 - accuracy: 0.6669\n"
          ]
        },
        {
          "data": {
            "text/plain": [
              "<keras.src.callbacks.History at 0x7838283ddd50>"
            ]
          },
          "execution_count": 5,
          "metadata": {},
          "output_type": "execute_result"
        }
      ],
      "source": [
        "model = keras.Sequential([\n",
        "    keras.layers.Input(shape=(15,)),  # Input layer with 15 features\n",
        "    keras.layers.Dense(15, activation='relu'),  # 1st hidden layer with 15 nodes and ReLU activation\n",
        "    keras.layers.Dense(8, activation='relu'),   # 2nd hidden layer with 8 nodes and ReLU activation\n",
        "    keras.layers.Dense(2, activation='relu'),   # 3rd hidden layer with 2 nodes and ReLU activation\n",
        "    keras.layers.Dense(1, activation='sigmoid')  # Output layer for binary classification\n",
        "])\n",
        "\n",
        "# Compile the model\n",
        "model.compile(optimizer='adam', loss='binary_crossentropy', metrics=['accuracy'])\n",
        "\n",
        "# Train the model\n",
        "model.fit(X_train, Y_train, epochs=100, batch_size=256)"
      ]
    },
    {
      "cell_type": "code",
      "execution_count": null,
      "metadata": {
        "id": "tMqGn1iPfcYY"
      },
      "outputs": [],
      "source": [
        "#Evaluate the model\n",
        "test_loss, test_accuracy = model.evaluate(X_test, Y_test)\n"
      ]
    },
    {
      "cell_type": "code",
      "execution_count": 11,
      "metadata": {
        "colab": {
          "base_uri": "https://localhost:8080/"
        },
        "id": "VqI4pQI-lpwn",
        "outputId": "a2edd848-4c4a-4580-fa8b-bc33c3d55478"
      },
      "outputs": [
        {
          "name": "stdout",
          "output_type": "stream",
          "text": [
            "Test accuracy: 0.7834884945411682\n"
          ]
        }
      ],
      "source": [
        "print(f\"Test accuracy: {test_accuracy}\")"
      ]
    },
    {
      "cell_type": "code",
      "execution_count": 7,
      "metadata": {
        "id": "XbH67m3egHpj"
      },
      "outputs": [],
      "source": [
        "df = pd.read_csv('indian_accent_feature_vectors.csv')\n",
        "x = df.values.tolist()\n",
        "# convert each element from string to list\n",
        "X = []\n",
        "for i in range(len(x)):\n",
        "    Z = []\n",
        "    for j in range(len(x[i])):\n",
        "        # if x[i][j] is string\n",
        "        if isinstance(x[i][j], str):\n",
        "            p = x[i][j].strip('][').split(', ')\n",
        "            Z.append(p)\n",
        "            # convert each element from string to int\n",
        "            for k in range(len(p)):\n",
        "                p[k] = float(p[k])\n",
        "        else :\n",
        "            break\n",
        "    X.append(Z)\n",
        "\n",
        "df2 = pd.read_csv('word_markings_indian_accent.csv')\n",
        "y = df2.values.tolist()\n",
        "# convert each element from string to list\n",
        "Y = []\n",
        "for i in range(len(y)):\n",
        "    Z = []\n",
        "    for j in range(len(y[i])):\n",
        "        # if x[i][j] is 0 or 1\n",
        "        if y[i][j] == 0 or y[i][j] == 1:\n",
        "            Z.append(int(y[i][j]))\n",
        "        else: break\n",
        "    Y.append(Z)\n",
        "\n",
        "X_test = [item for sublist in X for item in sublist]\n",
        "Y_test = [item for sublist in Y for item in sublist]\n",
        "\n",
        "X_test_arr = np.array(X_test)\n",
        "X_test_arr[np.isnan(X_test_arr)] = 0\n",
        "\n",
        "X_test = X_test_arr.tolist()\n",
        "\n",
        "df3 = pd.DataFrame(X_test, columns=['1','2','3','4','5','6','7','8','9','10','11','12','13','14','15'])\n",
        "df3.fillna(0, inplace=True)"
      ]
    },
    {
      "cell_type": "code",
      "execution_count": null,
      "metadata": {
        "id": "wG8e275LdwZU"
      },
      "outputs": [],
      "source": [
        "#Evaluate the model\n",
        "test_loss, test_accuracy = model.evaluate(X_test, Y_test)\n"
      ]
    },
    {
      "cell_type": "code",
      "execution_count": 9,
      "metadata": {
        "colab": {
          "base_uri": "https://localhost:8080/"
        },
        "id": "hN4FJLBqd1iH",
        "outputId": "28a465f3-bdd5-4a0a-d227-7428abb3e8a5"
      },
      "outputs": [
        {
          "name": "stdout",
          "output_type": "stream",
          "text": [
            "Test accuracy: 0.665680468082428\n"
          ]
        }
      ],
      "source": [
        "print(f\"Test accuracy: {test_accuracy}\")"
      ]
    }
  ],
  "metadata": {
    "colab": {
      "provenance": []
    },
    "kernelspec": {
      "display_name": "Python 3",
      "language": "python",
      "name": "python3"
    },
    "language_info": {
      "codemirror_mode": {
        "name": "ipython",
        "version": 3
      },
      "file_extension": ".py",
      "mimetype": "text/x-python",
      "name": "python",
      "nbconvert_exporter": "python",
      "pygments_lexer": "ipython3",
      "version": "3.11.6"
    }
  },
  "nbformat": 4,
  "nbformat_minor": 0
}
